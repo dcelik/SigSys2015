{
 "metadata": {
  "name": "",
  "signature": "sha256:b5cedb77c45fa056e6ba15bbedbfbe5606d7b53b5219346358e76679c7eb45c3"
 },
 "nbformat": 3,
 "nbformat_minor": 0,
 "worksheets": [
  {
   "cells": [
    {
     "cell_type": "heading",
     "level": 1,
     "metadata": {},
     "source": [
      "Signals and Systems Problem Set 9: Acoustic Modem Transmision\n"
     ]
    },
    {
     "cell_type": "markdown",
     "metadata": {},
     "source": [
      "Deniz Celik & Jacob Riedel"
     ]
    },
    {
     "cell_type": "heading",
     "level": 3,
     "metadata": {},
     "source": [
      "Provided Code:"
     ]
    },
    {
     "cell_type": "code",
     "collapsed": false,
     "input": [
      "import numpy as np\n",
      "import pyaudio\n",
      "from array import array\n",
      "import matplotlib.pyplot as mplib\n",
      "\n",
      "\n",
      "# This function converts a string into a numpy array of bits\n",
      "# note that it is assumed that each character is 7 bits long here\n",
      "def string2NPArray(s):\n",
      "    bits = np.array([])\n",
      "    for a in bytearray(s, 'ascii'):\n",
      "        for b in range(0,7):\n",
      "            bits = np.append(bits,float((a>>(7-b-1))&1))\n",
      "    return bits\n",
      "\n",
      "# This function converts a numpy array of bits to a string\n",
      "# note that it is assumed that each character is 7 bits long here\n",
      "def NPbits2String(bits):\n",
      "    S = \"\"\n",
      "    for a in np.arange(0, np.ceil(len(bits)/7)):\n",
      "        tmp = 0\n",
      "        for k in np.arange(0,7):\n",
      "            b = bits[a*7+k]\n",
      "            tmp = tmp + (2**(6-k))*b\n",
      "        S = S + chr(int(tmp))\n",
      "    return S\n",
      "\n",
      "\n",
      "# this function gets samples from the microphone\n",
      "# it waits until there are samples greater than threshold\n",
      "# and keeps collecting samples until there is a block of chunk_size samples\n",
      "# without a single sample over threshold\n",
      "def get_samples_from_mic(sample_rate = 8000, threshold = 1000, chunk_size = 1000):\n",
      "\n",
      "    import numpy as np\n",
      "    \n",
      "    # initialize pyaudio object\n",
      "    p = pyaudio.PyAudio()\n",
      "    stream = p.open(format=pyaudio.paInt16, channels=1, rate=sample_rate,\n",
      "            input=True, output=False,\n",
      "            frames_per_buffer=chunk_size)\n",
      "\n",
      "    \n",
      "    def is_silent(snd_data, th):\n",
      "    #\"Returns 'True' if below the 'silent' threshold\"\n",
      "        return max(snd_data) < th\n",
      "\n",
      "\n",
      "# initialize an array to store the data\n",
      "    data_vec = array('h')\n",
      "    \n",
      "# wait until we hear something\n",
      "    while 1:\n",
      "        # read a chunk of samples from the mic\n",
      "        data = stream.read(chunk_size)\n",
      "        # convert the data into an array of int16s\n",
      "        snd_data = array('h', data)\n",
      "        # if no longer silent break out of detection loop\n",
      "        if not is_silent(snd_data, threshold):\n",
      "            break\n",
      "\n",
      "# append the sound data from the previous chunk into the array             \n",
      "    data_vec.extend(snd_data)\n",
      "    \n",
      "# collect samples until we get a silent block\n",
      "    while 1:\n",
      "        # read a chunk of data\n",
      "        data = stream.read(chunk_size)\n",
      "        snd_data = array('h', data)\n",
      "        # stick the chunk of samples at the end of the vector that stores\n",
      "        # the samples\n",
      "        data_vec.extend(snd_data)     \n",
      "        # if silent break out of loop\n",
      "        if is_silent(snd_data, threshold):\n",
      "            break\n",
      "            \n",
      "# convert to a numpy array   \n",
      "# we don't use a numpy array directly because it's slower than\n",
      "# array \n",
      "    x = np.frombuffer(data_vec, dtype= np.dtype('int16'))    \n",
      "    \n",
      "# close the pyaudio stream     \n",
      "    stream.stop_stream()\n",
      "    stream.close()\n",
      "    p.terminate()\n",
      "\n",
      "# return the data samples    \n",
      "    return x  \n",
      "\n",
      "def play_samples(x, rate=8000, chunk_size = 1000):\n",
      "   \n",
      "    p = pyaudio.PyAudio()\n",
      "    stream = p.open(format= pyaudio.paInt16, channels=1, rate=rate,\n",
      "        input=False, output=True,\n",
      "        frames_per_buffer=len(x))\n",
      "    stream.write(x.astype(np.int16).tostring())\n",
      "    stream.stop_stream()\n",
      "    stream.close()\n",
      "    p.terminate()\n",
      "\n",
      "# this is a utility function that  finds the start and  end \n",
      "# of transmission in the numpy array of samples xf\n",
      "# The function looks for the first instance where the entries of xf\n",
      "# go above threshold and returns the index into xf where this happens\n",
      "# in start_idx\n",
      "# The function looks for the last instance where the entries of xf\n",
      "# are above threshold and returns the index into xf where this happens\n",
      "# in end_idx\n",
      "# \n",
      "# You will probably have to do some trial and error to get the threshold right\n",
      "# one possibility is to se the threshold equal to some factor of the maximum value\n",
      "# in the input signal,  e.g. 0.3 * maximum value in xf\n",
      "#\n",
      "def find_start_and_end(xf, threshold = 2000): \n",
      "    import numpy as np    \n",
      "    start_idx = -1\n",
      " \n",
      "    for k in range(0, len(xf)):\n",
      "        if(np.abs(xf[k])) > threshold:\n",
      "            start_idx = k\n",
      "            break\n",
      "\n",
      "    if(start_idx  < 0):\n",
      "        print \"Unable to detect start of transmission\"\n",
      "        return -1\n",
      "    \n",
      "    end_idx = -1\n",
      "    \n",
      "    for k in range(0, len(xf)):\n",
      "        if(np.abs(xf[len(xf)-k-1])) > threshold:\n",
      "            end_idx = len(xf)-k-1\n",
      "            break\n",
      "\n",
      "    if(end_idx < 0):\n",
      "        print \"Unable to detect end of transmission\"\n",
      "        return -1\n",
      "\n",
      "    return start_idx, end_idx\n",
      "\n",
      "    "
     ],
     "language": "python",
     "metadata": {},
     "outputs": [],
     "prompt_number": 26
    },
    {
     "cell_type": "heading",
     "level": 3,
     "metadata": {},
     "source": [
      "Our Modules:"
     ]
    },
    {
     "cell_type": "code",
     "collapsed": false,
     "input": [
      "def generate_bpsk_signal(bits, rate=8000, symbol_len = 250, freq = 1000):\n",
      "    #get number of bits in sent string\n",
      "    lenbits = len(bits)\n",
      "    \n",
      "    #total time of sent signal, including buffer bits\n",
      "    burstlength = (lenbits+3.0)*symbol_len/rate\n",
      "    \n",
      "    #array of time points, at rate given\n",
      "    ts = np.arange(0,burstlength, 1/(rate*1.0))\n",
      "    \n",
      "    #cosine to modulate signal, multiplied by 2^13(?)\n",
      "    cosines = np.cos(2*np.pi*freq*ts)*(8192)\n",
      "\n",
      "    #convert bit array(1,0,1...) to signal array(1,-1,1...)\n",
      "    signal = (2*bits)-np.ones(len(bits))\n",
      "    \n",
      "    #create front buffer of a one 0 bit and one 1 bit\n",
      "    front = np.append(np.zeros(symbol_len),np.ones(symbol_len))\n",
      "    #create end buffer of one 0 bit\n",
      "    end = np.zeros(symbol_len)\n",
      "    #create array to extend pulses to symbol length\n",
      "    on = np.ones(symbol_len)\n",
      "    \n",
      "    #initialization\n",
      "    frontplusword = front\n",
      "    \n",
      "    #loop through signal and extend each bit to symbol_len\n",
      "    for k in range(0,len(signal)):\n",
      "        frontplusword = np.append(frontplusword,signal[k]*on)\n",
      "        \n",
      "    #add end to the front buffer plus extended signal    \n",
      "    fullsignal = np.append(frontplusword,end)\n",
      "    \n",
      "    #return product of cosine and signal with buffers\n",
      "    return cosines*fullsignal\n",
      "\n",
      "#test for equality with bpsk.generate...\n",
      "#IT WORKS :D\n",
      "#for i in generate_bpsk_signal(bits, rate = 8820, symbol_len = 250, freq = 1000)/x:\n",
      "    #print(i)\n"
     ],
     "language": "python",
     "metadata": {},
     "outputs": [],
     "prompt_number": 27
    },
    {
     "cell_type": "code",
     "collapsed": false,
     "input": [
      "def decode_bpsk_signal(x, freq=1000, rate = 8000, symbol_len = 250, detection_threshold_factor = 0.3, LPFbw = 320):\n",
      "    #get timesteps\n",
      "    ts = np.arange(0,len(x)/(rate*1.0),1/(rate*1.0))\n",
      "    #get start and end id's\n",
      "    startid, endid =  find_start_and_end(x, detection_threshold_factor*np.max(x))\n",
      "    #get segment that is original signal\n",
      "    sig = x[startid:endid]\n",
      "    #cut timesteps to match original signal; assuming start of signal is time equals 0\n",
      "    ts = ts[0:len(sig)]\n",
      "    #make time range of filter to cut only 1 pulse\n",
      "    filterrange = np.arange(-(symbol_len/(2.0*rate)),(symbol_len/(2.0*rate)),1/(rate*1.0))\n",
      "    #make filter impulse response\n",
      "    LPfilter = np.sinc(filterrange/np.pi*LPFbw)\n",
      "    \n",
      "    #variance can't ever be negative so we set initilaized value to unreachable number\n",
      "    maxvar = -1\n",
      "    #initialize best offset value\n",
      "    bestoffset = -np.pi\n",
      "    #brute force looping\n",
      "    for offset in np.linspace(-np.pi,np.pi,16):\n",
      "        #make cosine with offset\n",
      "        cosine = np.cos(2*np.pi*freq*ts+offset)\n",
      "        #modulate the recieved signal to restore the original signal with amplitude differences and residuals\n",
      "        modulatedsig = cosine*sig\n",
      "        #filter the signal using convolution with the impulse response of the filter\n",
      "        filteredsig = np.convolve(modulatedsig,LPfilter)\n",
      "        #we decided to use variance as the indicator for best modulation\n",
      "        #since the offset we want will not be incredibely filtered out, the highest variance means the correct modulation offset\n",
      "        #to find the original signal\n",
      "        samplevar = np.var(filteredsig)\n",
      "        if(samplevar>maxvar):\n",
      "            maxvar = samplevar\n",
      "            bestoffset = offset\n",
      "            \n",
      "    #create filtered signal as in loop using the bestoffset\n",
      "    bestcosine = np.cos(2*np.pi*freq*ts+bestoffset)\n",
      "    bestsig = bestcosine*sig\n",
      "    bestfilteredsig = np.convolve(bestsig,LPfilter)\n",
      "    \n",
      "    #find start and end of new filtered signal\n",
      "    filterstart, filterend = find_start_and_end(bestfilteredsig,detection_threshold_factor*np.max(filteredsig))\n",
      "    #we don't care about amplitude, only sign of the pulses, so we grab those as the bits\n",
      "    bits = np.sign(filteredsig[filterstart+(symbol_len/2.0):filterend:symbol_len])\n",
      "    #make sure we detected our control bit correctly, if its 1 then it still is 1, if it is -1\n",
      "    #then everything else is off by a factor of -1, so we multiply by the control bit\n",
      "    bits = bits*bits[0]\n",
      "    #remove control bit and then convert from signal(1,-1,1,...) to bits(1,0,1,...)\n",
      "    bits = (bits[1:]+1.0)/2\n",
      "    \n",
      "    return bits,bestsig,ts\n",
      "#test for equality with bpsk.decode...\n",
      "#IT WORKS :D:D\n",
      "#ours = decode_bpsk_signal(x, freq=1000, rate = 8820, symbol_len = 250, detection_threshold_factor = 0.4, LPFbw = 320)\n",
      "#bpsks = bpsk.decode_bpsk_signal(x, freq=1000, rate = 8820, symbol_len = 250, detection_threshold_factor = 0.4, LPFbw = 320)\n",
      "#print(ours)\n",
      "#print(bpsks)\n",
      "#print(NPbits2String(ours))\n",
      "#print(NPbits2String(bpsks))"
     ],
     "language": "python",
     "metadata": {},
     "outputs": [],
     "prompt_number": 28
    },
    {
     "cell_type": "heading",
     "level": 3,
     "metadata": {},
     "source": [
      "Transmitting:"
     ]
    },
    {
     "cell_type": "code",
     "collapsed": false,
     "input": [
      "bits = string2NPArray(\"Hello\")\n",
      "x = generate_bpsk_signal(bits, rate = 8820, symbol_len = 250, freq = 1000)"
     ],
     "language": "python",
     "metadata": {},
     "outputs": [],
     "prompt_number": 29
    },
    {
     "cell_type": "code",
     "collapsed": false,
     "input": [
      "# play the samples on the soundcard\n",
      "play_samples(x, rate=8820, chunk_size = 1000)"
     ],
     "language": "python",
     "metadata": {},
     "outputs": [],
     "prompt_number": 30
    },
    {
     "cell_type": "heading",
     "level": 3,
     "metadata": {},
     "source": [
      "Recieving:"
     ]
    },
    {
     "cell_type": "code",
     "collapsed": false,
     "input": [
      "x = get_samples_from_mic(sample_rate = 8820, threshold = 3000, chunk_size = 1000)\n",
      "# decode received signal into a numpy array of bits\n",
      "bits,modsig,time = decode_bpsk_signal(x, freq=1000, rate = 8820, symbol_len = 250, detection_threshold_factor = 0.4, LPFbw = 320)\n",
      "# convert the numpy array of bits into a string\n",
      "bit_string = NPbits2String(bits)\n",
      "# print the decoded string\n",
      "print bit_string"
     ],
     "language": "python",
     "metadata": {},
     "outputs": [
      {
       "output_type": "stream",
       "stream": "stdout",
       "text": [
        "Hello\n"
       ]
      }
     ],
     "prompt_number": 40
    },
    {
     "cell_type": "heading",
     "level": 3,
     "metadata": {},
     "source": [
      "Recorded Signal"
     ]
    },
    {
     "cell_type": "code",
     "collapsed": false,
     "input": [
      "rate = 8820\n",
      "ts = np.arange(0, len(x)/float(rate), 1/float(rate))\n",
      "mplib.plot(ts, x)\n",
      "mplib.show()"
     ],
     "language": "python",
     "metadata": {},
     "outputs": [
      {
       "metadata": {},
       "output_type": "display_data",
       "png": "[encoded data removed]",
       "text": [
        "<matplotlib.figure.Figure at 0xa58ff98>"
       ]
      }
     ],
     "prompt_number": 43
    },
    {
     "cell_type": "heading",
     "level": 3,
     "metadata": {},
     "source": [
      "Modulated Signal"
     ]
    },
    {
     "cell_type": "code",
     "collapsed": false,
     "input": [
      "ts2 = np.arange(0, len(x)/float(rate), 1/float(rate))\n",
      "mplib.plot(time, modsig)\n",
      "mplib.show()"
     ],
     "language": "python",
     "metadata": {},
     "outputs": [
      {
       "metadata": {},
       "output_type": "display_data",
       "png": "[encoded data removed]",
       "text": [
        "<matplotlib.figure.Figure at 0xa5cfc50>"
       ]
      }
     ],
     "prompt_number": 44
    },
    {
     "cell_type": "code",
     "collapsed": false,
     "input": [],
     "language": "python",
     "metadata": {},
     "outputs": []
    }
   ],
   "metadata": {}
  }
 ]
}